{
 "cells": [
  {
   "cell_type": "markdown",
   "metadata": {},
   "source": [
    "## Overview\n",
    "We've included analysis code used to replicate the results and all figures for Ma and Mortimer et al., 2020 (\"Increased antibiotic susceptibility in Neisseria gonorrhoeae through adaptation to the cervical environment\"). Please reach out with any questions to kevinchenma@g.harvard.edu and we'll be happy to assist."
   ]
  },
  {
   "cell_type": "markdown",
   "metadata": {},
   "source": [
    "## Dependencies and genomics pipeline"
   ]
  },
  {
   "cell_type": "markdown",
   "metadata": {},
   "source": [
    "First, we'll give a brief overview of the genomics pipeline. Since these are mostly based off existing tools, we won't go step by step through them but wuold be happy to share additional code on request. The end result of the pipeline will be mapping-based pseudogenomes and de novo assemblies for each isolate."
   ]
  },
  {
   "cell_type": "markdown",
   "metadata": {
    "ExecuteTime": {
     "end_time": "2020-04-27T22:02:51.024311Z",
     "start_time": "2020-04-27T22:02:51.017867Z"
    }
   },
   "source": [
    "We used the following Python packages extensively. We also used rpy2 to run R code within the Jupyter notebook, but this is optional."
   ]
  },
  {
   "cell_type": "code",
   "execution_count": null,
   "metadata": {
    "ExecuteTime": {
     "end_time": "2020-04-27T22:02:51.034167Z",
     "start_time": "2020-04-27T21:49:20.208Z"
    }
   },
   "outputs": [],
   "source": [
    "import numpy as np\n",
    "import statsmodels\n",
    "import statsmodels.formula.api as smf\n",
    "import seaborn as sns\n",
    "from matplotlib import pyplot as plt\n",
    "import pandas as pd\n",
    "from Bio import SeqIO\n",
    "from collections import Counter\n",
    "%matplotlib inline"
   ]
  },
  {
   "cell_type": "markdown",
   "metadata": {
    "ExecuteTime": {
     "end_time": "2020-04-27T20:52:23.860240Z",
     "start_time": "2020-04-27T20:52:23.852433Z"
    }
   },
   "source": [
    "We used BLASTn (version 2.6.0) extensively. We set up a BLASTn database using all of the contigs in our dataset; we did not upload this to Github due to size constraints but would be happy to provide it directly upon request.\n",
    "\n",
    "To call mosaic alleles in penA / mtrRCDE, we used MAFFT (version 7.450) and fastBAPS (version 1.0.0). Make sure the dependencies for fastBAPS are installed as well.\n",
    "\n",
    "For the GWAS portion, we additionally installed the dependencies required for Pyseer, re-listed here (https://pyseer.readthedocs.io/en/master/installation.html#prerequisites):\n",
    "\n",
    "- python 3+ (3.5.3)\n",
    "- numpy (1.13.3)\n",
    "- scipy (1.0.0)\n",
    "- pandas (0.21.0)\n",
    "- scikit-learn (0.19.1)\n",
    "- statsmodels (0.8.0)\n",
    "- pysam (0.13)\n",
    "- matplotlib (2.1.0) – for scree plots\n",
    "- DendroPy (4.3.0) – for phylogeny distances\n",
    "- pybedtools (0.7.10) – for annotating k-mers\n",
    "- bedtools (2.27.0) – for annotating k-mers\n",
    "- bedops (2.4.9) – for annotating k-mers"
   ]
  },
  {
   "cell_type": "markdown",
   "metadata": {},
   "source": [
    "### Calling SNP-based resistance genes"
   ]
  },
  {
   "cell_type": "code",
   "execution_count": null,
   "metadata": {},
   "outputs": [],
   "source": []
  },
  {
   "cell_type": "code",
   "execution_count": null,
   "metadata": {},
   "outputs": [],
   "source": []
  },
  {
   "cell_type": "code",
   "execution_count": null,
   "metadata": {},
   "outputs": [],
   "source": []
  },
  {
   "cell_type": "code",
   "execution_count": null,
   "metadata": {},
   "outputs": [],
   "source": []
  },
  {
   "cell_type": "code",
   "execution_count": null,
   "metadata": {},
   "outputs": [],
   "source": []
  },
  {
   "cell_type": "markdown",
   "metadata": {},
   "source": [
    "### fastBAPS clustering of mosaic alleles\n",
    "\n",
    "We used fastBAPS to cluster nucleotide sequences of penA and the mtrRCDE operon for usage as a covariate in the linear regression MIC prediction models. This provided a flexible, categorical representation of the mosaic alleles without needing to explicitly map to and identify known alleles. Because this is a bit different than other resistance allele calling approaches, we've included all of the necessary code below."
   ]
  },
  {
   "cell_type": "markdown",
   "metadata": {},
   "source": [
    "#### mosaic mtrRCDE\n",
    "\n",
    "First, we pulled out the whole mtrR through mtrCDE nucleotide sequence using a query sequence from reference strain FA1090 and the BLASTn database of the contigs, and converted the results to a FASTA file after some minor quality control for length."
   ]
  },
  {
   "cell_type": "code",
   "execution_count": 34,
   "metadata": {
    "ExecuteTime": {
     "end_time": "2020-04-27T21:43:33.533438Z",
     "start_time": "2020-04-27T21:43:17.361354Z"
    }
   },
   "outputs": [],
   "source": [
    "!blastn -db blast/2019-08-26_combined-contigs.fna -query linear-models/covariates/FA1090-mtrprom-mtrCDE.fna -num_descriptions 10000 -num_alignments 10000 -out linear-models/covariates/mtr-combined.txt\n",
    "!blastn -db blast/2019-08-26_combined-contigs.fna -query linear-models/covariates/FA1090-mtrprom-mtrCDE.fna -outfmt '6 sseqid length evalue sseq' -max_target_seqs 10000 -out linear-models/covariates/mtr-combined.tsv"
   ]
  },
  {
   "cell_type": "code",
   "execution_count": 35,
   "metadata": {
    "ExecuteTime": {
     "end_time": "2020-04-27T21:43:33.943600Z",
     "start_time": "2020-04-27T21:43:33.536387Z"
    }
   },
   "outputs": [],
   "source": [
    "samples = []\n",
    "with open('linear-models/covariates/mtr-combined.fna', 'w') as outfile, open('linear-models/covariates/mtr-combined.tsv', 'r') as infile:\n",
    "    for line in infile:\n",
    "        name,length,evalue,fasta = line.rstrip().split('\\t')\n",
    "        if int(length) < 4000:\n",
    "            continue\n",
    "        else:\n",
    "            outfile.write('>' + name.split('|')[0] + '\\n')\n",
    "            outfile.write(fasta + '\\n')\n",
    "            if name in samples:\n",
    "                print('Duplicate ' + name)\n",
    "            else:\n",
    "                samples.append(name)"
   ]
  },
  {
   "cell_type": "markdown",
   "metadata": {},
   "source": [
    "We aligned the FASTA file using MAFFT and passed it to fastBAPS for clustering using R. This will give a table of samples and the corresponding fastBAPS cluster for the mtrRCDE operon."
   ]
  },
  {
   "cell_type": "code",
   "execution_count": 42,
   "metadata": {
    "ExecuteTime": {
     "end_time": "2020-04-27T22:02:50.628608Z",
     "start_time": "2020-04-27T21:46:21.257198Z"
    }
   },
   "outputs": [
    {
     "name": "stdout",
     "output_type": "stream",
     "text": [
      "nthread = 0\n",
      "nthreadpair = 0\n",
      "nthreadtb = 0\n",
      "ppenalty_ex = 0\n",
      "stacksize: 8192 kb\n",
      "generating a scoring matrix for nucleotide (dist=200) ... done\n",
      "Gap Penalty = -1.53, +0.00, +0.00\n",
      "\n",
      "\n",
      "\n",
      "Making a distance matrix ..\n",
      " 4901 / 4941\n",
      "done.\n",
      "\n",
      "Constructing a UPGMA tree (efffree=0) ... \n",
      " 4930 / 4941\n",
      "done.\n",
      "\n",
      "Progressive alignment 1/2... \n",
      "STEP  4801 / 4940  h\n",
      "Reallocating..done. *alloclen = 10553\n",
      "STEP  4901 / 4940 \n",
      "done.\n",
      "\n",
      "Making a distance matrix from msa.. \n",
      " 4900 / 4941\n",
      "done.\n",
      "\n",
      "Constructing a UPGMA tree (efffree=1) ... \n",
      " 4930 / 4941\n",
      "done.\n",
      "\n",
      "Progressive alignment 2/2... \n",
      "STEP  4901 / 4940  h\n",
      "Reallocating..done. *alloclen = 10552\n",
      "\n",
      "done.\n",
      "\n",
      "disttbfast (nuc) Version 7.450\n",
      "alg=A, model=DNA200 (2), 1.53 (4.59), -0.00 (-0.00), noshift, amax=0.0\n",
      "0 thread(s)\n",
      "\n",
      "\n",
      "Strategy:\n",
      " FFT-NS-2 (Fast but rough)\n",
      " Progressive method (guide trees were built 2 times.)\n",
      "\n",
      "If unsure which option to use, try 'mafft --auto input > output'.\n",
      "For more information, see 'mafft --help', 'mafft --man' and the mafft page.\n",
      "\n",
      "The default gap scoring scheme has been changed in version 7.110 (2013 Oct).\n",
      "It tends to insert more gaps into gap-rich regions than previous versions.\n",
      "To disable this change, add the --leavegappyregion option.\n",
      "\n"
     ]
    }
   ],
   "source": [
    "!software/mafft-linux64/mafft.bat linear-models/covariates/mtr-combined.fna > linear-models/covariates/mtr-combined-aligned.fna"
   ]
  },
  {
   "cell_type": "code",
   "execution_count": 43,
   "metadata": {
    "ExecuteTime": {
     "end_time": "2020-04-27T22:02:51.012313Z",
     "start_time": "2020-04-27T22:02:50.630951Z"
    }
   },
   "outputs": [],
   "source": [
    "%load_ext rpy2.ipython"
   ]
  },
  {
   "cell_type": "code",
   "execution_count": 48,
   "metadata": {
    "ExecuteTime": {
     "end_time": "2020-04-27T22:38:55.870000Z",
     "start_time": "2020-04-27T22:38:19.884850Z"
    }
   },
   "outputs": [
    {
     "name": "stdout",
     "output_type": "stream",
     "text": [
      "[1] \"Optimised hyperparameter: 0.009\"\n",
      "[1] \"Calculating initial clustering...\"\n",
      "[1] \"Calculating initial dk values...\"\n",
      "[1] \"Clustering using hierarchical Bayesian clustering...\"\n",
      "[1] \"Calculating node marginal llks...\"\n",
      "[1] \"Finding best partition...\"\n"
     ]
    }
   ],
   "source": [
    "%%R -w 8 -h 4 --units in -r 400\n",
    "\n",
    "library(fastbaps)\n",
    "library(ape)\n",
    "\n",
    "sparse.data <- import_fasta_sparse_nt(\"linear-models/covariates/mtr-combined-aligned.fna\")\n",
    "sparse.data <- optimise_prior(sparse.data, type = \"optimise.symmetric\")\n",
    "\n",
    "baps.hc <- fast_baps(sparse.data)\n",
    "\n",
    "clusters <- best_baps_partition(sparse.data, as.phylo(baps.hc))\n",
    "\n",
    "write.table(clusters, file = \"linear-models/covariates/mtr-combined-fastBAPS.csv\", row.names = TRUE, sep = ',', quote = FALSE, col.names = FALSE)"
   ]
  },
  {
   "cell_type": "code",
   "execution_count": 50,
   "metadata": {
    "ExecuteTime": {
     "end_time": "2020-04-27T23:23:44.220940Z",
     "start_time": "2020-04-27T23:23:44.064184Z"
    }
   },
   "outputs": [
    {
     "name": "stdout",
     "output_type": "stream",
     "text": [
      "FA1090,10\r\n",
      "SRR3360687,10\r\n",
      "ERR388284,10\r\n",
      "ERR388345,10\r\n",
      "ERR349956,10\r\n",
      "ERR388402,10\r\n",
      "ERR349937,10\r\n",
      "ERR388321,10\r\n",
      "ERR349942,10\r\n",
      "SRR3361345,10\r\n"
     ]
    }
   ],
   "source": [
    "!head linear-models/covariates/mtr-combined-fastBAPS.csv"
   ]
  },
  {
   "cell_type": "markdown",
   "metadata": {},
   "source": [
    "#### mosaic penA"
   ]
  },
  {
   "cell_type": "markdown",
   "metadata": {},
   "source": [
    "We used the same pipeline for identifying mosaic penA clusters."
   ]
  },
  {
   "cell_type": "code",
   "execution_count": 51,
   "metadata": {
    "ExecuteTime": {
     "end_time": "2020-04-27T23:32:07.116085Z",
     "start_time": "2020-04-27T23:31:52.370315Z"
    }
   },
   "outputs": [],
   "source": [
    "!blastn -db blast/2019-08-26_combined-contigs.fna -query linear-models/covariates/FA1090-penA.fna -num_descriptions 10000 -num_alignments 10000 -out linear-models/covariates/penA-combined.txt\n",
    "!blastn -db blast/2019-08-26_combined-contigs.fna -query linear-models/covariates/FA1090-penA.fna -outfmt '6 sseqid length evalue sseq' -max_target_seqs 10000 -out linear-models/covariates/penA-combined.tsv"
   ]
  },
  {
   "cell_type": "code",
   "execution_count": 53,
   "metadata": {
    "ExecuteTime": {
     "end_time": "2020-04-27T23:32:21.686631Z",
     "start_time": "2020-04-27T23:32:21.366529Z"
    }
   },
   "outputs": [],
   "source": [
    "samples = []\n",
    "with open('linear-models/covariates/penA-combined.fna', 'w') as outfile, open('linear-models/covariates/penA-combined.tsv', 'r') as infile:\n",
    "    for line in infile:\n",
    "        name,length,evalue,fasta = line.rstrip().split('\\t')\n",
    "        if int(length) < 1500:\n",
    "            continue\n",
    "        else:\n",
    "            outfile.write('>' + name.split('|')[0] + '\\n')\n",
    "            outfile.write(fasta + '\\n')            \n",
    "            if name in samples:\n",
    "                print('Duplicate ' + name)\n",
    "            else:\n",
    "                samples.append(name)"
   ]
  },
  {
   "cell_type": "code",
   "execution_count": 55,
   "metadata": {
    "ExecuteTime": {
     "end_time": "2020-04-27T23:38:11.230296Z",
     "start_time": "2020-04-27T23:32:40.659149Z"
    }
   },
   "outputs": [
    {
     "name": "stdout",
     "output_type": "stream",
     "text": [
      "nthread = 0\n",
      "nthreadpair = 0\n",
      "nthreadtb = 0\n",
      "ppenalty_ex = 0\n",
      "stacksize: 8192 kb\n",
      "generating a scoring matrix for nucleotide (dist=200) ... done\n",
      "Gap Penalty = -1.53, +0.00, +0.00\n",
      "\n",
      "\n",
      "\n",
      "Making a distance matrix ..\n",
      " 4901 / 4914\n",
      "done.\n",
      "\n",
      "Constructing a UPGMA tree (efffree=0) ... \n",
      " 4910 / 4914\n",
      "done.\n",
      "\n",
      "Progressive alignment 1/2... \n",
      "STEP  4901 / 4913  h\n",
      "done.\n",
      "\n",
      "Making a distance matrix from msa.. \n",
      " 4900 / 4914\n",
      "done.\n",
      "\n",
      "Constructing a UPGMA tree (efffree=1) ... \n",
      " 4910 / 4914\n",
      "done.\n",
      "\n",
      "Progressive alignment 2/2... \n",
      "STEP  4901 / 4913 \n",
      "done.\n",
      "\n",
      "disttbfast (nuc) Version 7.450\n",
      "alg=A, model=DNA200 (2), 1.53 (4.59), -0.00 (-0.00), noshift, amax=0.0\n",
      "0 thread(s)\n",
      "\n",
      "\n",
      "Strategy:\n",
      " FFT-NS-2 (Fast but rough)\n",
      " Progressive method (guide trees were built 2 times.)\n",
      "\n",
      "If unsure which option to use, try 'mafft --auto input > output'.\n",
      "For more information, see 'mafft --help', 'mafft --man' and the mafft page.\n",
      "\n",
      "The default gap scoring scheme has been changed in version 7.110 (2013 Oct).\n",
      "It tends to insert more gaps into gap-rich regions than previous versions.\n",
      "To disable this change, add the --leavegappyregion option.\n",
      "\n"
     ]
    }
   ],
   "source": [
    "!software/mafft-linux64/mafft.bat linear-models/covariates/penA-combined.fna > linear-models/covariates/penA-combined-aligned.fna"
   ]
  },
  {
   "cell_type": "code",
   "execution_count": 70,
   "metadata": {
    "ExecuteTime": {
     "end_time": "2020-04-28T00:38:52.265846Z",
     "start_time": "2020-04-28T00:38:52.259489Z"
    }
   },
   "outputs": [
    {
     "name": "stdout",
     "output_type": "stream",
     "text": [
      "The rpy2.ipython extension is already loaded. To reload it, use:\n",
      "  %reload_ext rpy2.ipython\n"
     ]
    }
   ],
   "source": [
    "%load_ext rpy2.ipython"
   ]
  },
  {
   "cell_type": "code",
   "execution_count": 56,
   "metadata": {
    "ExecuteTime": {
     "end_time": "2020-04-27T23:38:32.368102Z",
     "start_time": "2020-04-27T23:38:11.243761Z"
    }
   },
   "outputs": [
    {
     "name": "stdout",
     "output_type": "stream",
     "text": [
      "[1] \"Optimised hyperparameter: 0.003\"\n",
      "[1] \"Calculating initial clustering...\"\n",
      "[1] \"Calculating initial dk values...\"\n",
      "[1] \"Clustering using hierarchical Bayesian clustering...\"\n",
      "[1] \"Calculating node marginal llks...\"\n",
      "[1] \"Finding best partition...\"\n"
     ]
    }
   ],
   "source": [
    "%%R -w 8 -h 4 --units in -r 400\n",
    "\n",
    "library(fastbaps)\n",
    "library(ape)\n",
    "\n",
    "sparse.data <- import_fasta_sparse_nt(\"linear-models/covariates/penA-combined-aligned.fna\")\n",
    "sparse.data <- optimise_prior(sparse.data, type = \"optimise.symmetric\")\n",
    "\n",
    "baps.hc <- fast_baps(sparse.data)\n",
    "\n",
    "clusters <- best_baps_partition(sparse.data, as.phylo(baps.hc))\n",
    "\n",
    "write.table(clusters, file = \"linear-models/covariates/penA-combined-fastBAPS.csv\", row.names = TRUE, sep = ',', quote = FALSE, col.names = FALSE)"
   ]
  },
  {
   "cell_type": "code",
   "execution_count": 57,
   "metadata": {
    "ExecuteTime": {
     "end_time": "2020-04-27T23:39:54.557151Z",
     "start_time": "2020-04-27T23:39:53.773096Z"
    }
   },
   "outputs": [
    {
     "name": "stdout",
     "output_type": "stream",
     "text": [
      "FA1090,14\r\n",
      "ERR388323,14\r\n",
      "ERR363579,14\r\n",
      "ERR449525,14\r\n",
      "ERR349961,14\r\n",
      "ERR349925,14\r\n",
      "ERR388339,14\r\n",
      "ERR388346,14\r\n",
      "ERR388446,14\r\n",
      "ERR449514,14\r\n"
     ]
    }
   ],
   "source": [
    "!head linear-models/covariates/penA-combined-fastBAPS.csv"
   ]
  },
  {
   "cell_type": "markdown",
   "metadata": {},
   "source": [
    "## Dataset overview and phenotype filtering"
   ]
  },
  {
   "cell_type": "markdown",
   "metadata": {
    "ExecuteTime": {
     "end_time": "2020-04-27T21:04:01.363661Z",
     "start_time": "2020-04-27T21:04:01.357766Z"
    }
   },
   "source": [
    "### Overview of metadata\n",
    "\n",
    "We read in the metadata file for the global dataset; there should be 4852 samples included."
   ]
  },
  {
   "cell_type": "code",
   "execution_count": 71,
   "metadata": {
    "ExecuteTime": {
     "end_time": "2020-04-28T00:39:28.289846Z",
     "start_time": "2020-04-28T00:39:28.262886Z"
    }
   },
   "outputs": [],
   "source": [
    "import numpy as np\n",
    "import statsmodels\n",
    "import statsmodels.formula.api as smf\n",
    "import seaborn as sns\n",
    "from matplotlib import pyplot as plt\n",
    "import pandas as pd\n",
    "from Bio import SeqIO\n",
    "from collections import Counter\n",
    "%matplotlib inline"
   ]
  },
  {
   "cell_type": "code",
   "execution_count": 14,
   "metadata": {
    "ExecuteTime": {
     "end_time": "2020-04-27T21:08:41.706533Z",
     "start_time": "2020-04-27T21:08:41.663846Z"
    }
   },
   "outputs": [
    {
     "data": {
      "text/plain": [
       "(4852, 16)"
      ]
     },
     "execution_count": 14,
     "metadata": {},
     "output_type": "execute_result"
    }
   ],
   "source": [
    "metadata = pd.read_csv('metadata/2020-04-27_Supplementary-Table-6_Global-Strain-Collection.csv')\n",
    "metadata.shape"
   ]
  },
  {
   "cell_type": "markdown",
   "metadata": {},
   "source": [
    "### Timespan\n",
    "A summary of the timespan of collection and number of strains per dataset:"
   ]
  },
  {
   "cell_type": "code",
   "execution_count": 15,
   "metadata": {
    "ExecuteTime": {
     "end_time": "2020-04-27T21:08:42.719369Z",
     "start_time": "2020-04-27T21:08:42.660171Z"
    }
   },
   "outputs": [
    {
     "name": "stdout",
     "output_type": "stream",
     "text": [
      "1989.0 2013.0 Demczuk2015 114\n",
      "1991.0 2014.0 Demczuk2016 199\n",
      "2004.0 2011.0 Eyre2017 231\n",
      "1982.0 2011.0 Ezewudo2015 54\n",
      "2004.0 2017.0 Fifer2018 50\n",
      "2000.0 2013.0 Grad2014_2016 1100\n",
      "2013.0 2013.0 Harris2018 1048\n",
      "2006.0 2014.0 Kwong2017 94\n",
      "2014.0 2015.0 Lee2018 397\n",
      "2011.0 2015.0 MortimerUnpub 888\n",
      "2012.0 2016.0 Ryan2018 39\n",
      "1979.0 2012.0 SanchezBuso2018 378\n",
      "1996.0 2015.0 Yahara2018 260\n"
     ]
    }
   ],
   "source": [
    "metadata['Year_only'] = metadata['Year'].apply(lambda x: float(str(x).split('-')[0]))\n",
    "\n",
    "for dataset in Counter(metadata['Reference']):\n",
    "    years = sorted(metadata[metadata['Reference'] == dataset].Year_only)\n",
    "    print(min(years), max(years), dataset, len(years))"
   ]
  },
  {
   "cell_type": "markdown",
   "metadata": {},
   "source": [
    "Number of isolates collected by year:"
   ]
  },
  {
   "cell_type": "code",
   "execution_count": 16,
   "metadata": {
    "ExecuteTime": {
     "end_time": "2020-04-27T21:08:49.134888Z",
     "start_time": "2020-04-27T21:08:48.520524Z"
    }
   },
   "outputs": [
    {
     "name": "stderr",
     "output_type": "stream",
     "text": [
      "/home/kcm14/anaconda3/envs/pyseer/lib/python3.6/site-packages/ipykernel_launcher.py:4: SettingWithCopyWarning: \n",
      "A value is trying to be set on a copy of a slice from a DataFrame.\n",
      "Try using .loc[row_indexer,col_indexer] = value instead\n",
      "\n",
      "See the caveats in the documentation: http://pandas.pydata.org/pandas-docs/stable/indexing.html#indexing-view-versus-copy\n",
      "  after removing the cwd from sys.path.\n",
      "/home/kcm14/anaconda3/envs/pyseer/lib/python3.6/site-packages/ipykernel_launcher.py:5: SettingWithCopyWarning: \n",
      "A value is trying to be set on a copy of a slice from a DataFrame.\n",
      "Try using .loc[row_indexer,col_indexer] = value instead\n",
      "\n",
      "See the caveats in the documentation: http://pandas.pydata.org/pandas-docs/stable/indexing.html#indexing-view-versus-copy\n",
      "  \"\"\"\n"
     ]
    },
    {
     "data": {
      "image/png": "[encoded data removed]",
      "text/plain": [
       "<matplotlib.figure.Figure at 0x7f27a82f2da0>"
      ]
     },
     "metadata": {},
     "output_type": "display_data"
    }
   ],
   "source": [
    "sns.set(font_scale = 1.9)\n",
    "\n",
    "plotmetadata = metadata[pd.notnull(metadata['Year_only'])]\n",
    "plotmetadata['Year_only'] = plotmetadata['Year_only'].apply(lambda x: (int(float(str(x).split('-')[0]))))\n",
    "plotmetadata['Year_only'] = plotmetadata['Year_only'].apply(lambda x: str(x) if x >= 2000 else '1979-1999')\n",
    "\n",
    "fig, ax = plt.subplots(figsize=(8,6))\n",
    "sns.set_style({'font.sans-serif': 'helvetica'})\n",
    "\n",
    "sns.countplot(sorted(plotmetadata['Year_only']), ax=ax, palette=sns.color_palette(\"PuBu\", 20))\n",
    "\n",
    "plt.xticks(rotation=30)\n",
    "plt.ylabel('Number of isolates')\n",
    "plt.xlabel('Year')\n",
    "for label in ax.xaxis.get_ticklabels()[::2]:\n",
    "    label.set_visible(False)\n",
    "\n",
    "sns.set_style({'font.sans-serif': 'helvetica'})\n",
    "plt.tight_layout()"
   ]
  },
  {
   "cell_type": "markdown",
   "metadata": {},
   "source": [
    "### Geographical range\n",
    "\n",
    "Number of isolates collected by continent for the most frequent continents:"
   ]
  },
  {
   "cell_type": "code",
   "execution_count": 69,
   "metadata": {
    "ExecuteTime": {
     "end_time": "2020-04-28T00:37:18.305608Z",
     "start_time": "2020-04-28T00:37:17.873207Z"
    }
   },
   "outputs": [
    {
     "name": "stderr",
     "output_type": "stream",
     "text": [
      "/home/kcm14/anaconda3/envs/pyseer/lib/python3.6/site-packages/ipykernel_launcher.py:5: SettingWithCopyWarning: \n",
      "A value is trying to be set on a copy of a slice from a DataFrame.\n",
      "Try using .loc[row_indexer,col_indexer] = value instead\n",
      "\n",
      "See the caveats in the documentation: http://pandas.pydata.org/pandas-docs/stable/indexing.html#indexing-view-versus-copy\n",
      "  \"\"\"\n"
     ]
    },
    {
     "data": {
      "image/png": "[encoded data removed]",
      "text/plain": [
       "<matplotlib.figure.Figure at 0x7f27770aff28>"
      ]
     },
     "metadata": {},
     "output_type": "display_data"
    }
   ],
   "source": [
    "sns.set(font_scale = 2)\n",
    "sns.set_style({'font.sans-serif': 'helvetica'})\n",
    "\n",
    "plotmetadata2 = metadata[pd.notnull(metadata['Continent'])]\n",
    "plotmetadata2['Continent2'] = plotmetadata2['Continent'].apply(lambda x: x if x in ['North America', 'Asia', 'Europe', 'Oceania'] else 'Other')\n",
    "\n",
    "fig, ax = plt.subplots(figsize=(8,6))\n",
    "\n",
    "centre_circle3 = plt.Circle((0,0),1.0,ec='black', fill=False)\n",
    "fig.gca().add_artist(centre_circle3)\n",
    "\n",
    "labels = ['North \\nAmerica', 'Asia', 'Europe', 'Other', 'Oceania']\n",
    "sizes = list(Counter(plotmetadata2['Continent2']).values())\n",
    "colors = ['#8dd3c7','#fcfca4','#bebada','#fccde5', '#fdb462']\n",
    "explode = (0,0,0,0)\n",
    " \n",
    "plt.pie(sizes, colors = colors, labels=labels, autopct='%1.1f%%', startangle=90, pctdistance=0.80)\n",
    "centre_circle = plt.Circle((0,0),0.585,fc='white')\n",
    "centre_circle2 = plt.Circle((0,0),0.60,fc='black')\n",
    "fig.gca().add_artist(centre_circle2)\n",
    "fig.gca().add_artist(centre_circle)\n",
    "\n",
    "plt.axis('equal')  \n",
    "plt.tight_layout()"
   ]
  },
  {
   "cell_type": "markdown",
   "metadata": {},
   "source": [
    "Number of countries included:"
   ]
  },
  {
   "cell_type": "code",
   "execution_count": 23,
   "metadata": {
    "ExecuteTime": {
     "end_time": "2020-04-27T21:21:17.672378Z",
     "start_time": "2020-04-27T21:21:17.657865Z"
    }
   },
   "outputs": [
    {
     "data": {
      "text/plain": [
       "65"
      ]
     },
     "execution_count": 23,
     "metadata": {},
     "output_type": "execute_result"
    }
   ],
   "source": [
    "len(Counter(metadata['Country']))"
   ]
  },
  {
   "cell_type": "markdown",
   "metadata": {},
   "source": [
    "### Phenotype processing\n",
    "\n",
    "We took a few filtering steps to clean up and standardize the MICs. Some isolates only had binary 'RES' or 'SUS' information; we removed those samples. Some isolates only had relative MIC values (e.g., >=8); we set those to be equal to the provided threshold (i.e., 8). We also log2-transformed MICs for both linear modeling and GWAS. Finally, for azithromycin, we multiplied MICs of CDC GISP isolates prior to 2005 by two as previously done (Grad et al., 2016) to account for a known change in the MIC measurement media protocol."
   ]
  },
  {
   "cell_type": "code",
   "execution_count": 68,
   "metadata": {
    "ExecuteTime": {
     "end_time": "2020-04-28T00:35:47.329438Z",
     "start_time": "2020-04-28T00:35:46.762391Z"
    }
   },
   "outputs": [],
   "source": [
    "import pandas as pd\n",
    "import numpy as np\n",
    "\n",
    "metadata_filtered = pd.read_csv('metadata/2020-04-27_Supplementary-Table-6_Global-Strain-Collection.csv')\n",
    "metadata_filtered = metadata_filtered.replace('SUS', np.nan)\n",
    "metadata_filtered = metadata_filtered.replace('RES', np.nan)\n",
    "\n",
    "metadata_filtered['AZI_LOG'] = metadata_filtered['Azithromycin'].map(lambda x: float(str(x).lstrip('><=')))\n",
    "\n",
    "adjusted_MIC = []\n",
    "for index, row in metadata_filtered.iterrows():\n",
    "    if not row['Reference'].startswith('Grad'):\n",
    "        adjusted_MIC.append(row['AZI_LOG'])\n",
    "    else:\n",
    "        if int(row['Year']) < 2005:\n",
    "            adjusted_MIC.append(2*row['AZI_LOG'])\n",
    "        else:\n",
    "            adjusted_MIC.append(row['AZI_LOG'])\n",
    "            \n",
    "metadata_filtered['AZI_LOG'] = adjusted_MIC\n",
    "metadata_filtered['AZI_LOG'] = np.log2(metadata_filtered['AZI_LOG'])\n",
    "\n",
    "metadata_filtered['CRO_LOG'] = np.log2(metadata_filtered['Ceftriaxone'].map(lambda x: float(str(x).lstrip('><='))))\n",
    "metadata_filtered['CIP_LOG'] = np.log2(metadata_filtered['Ciprofloxacin'].map(lambda x: float(str(x).lstrip('><='))))\n",
    "\n",
    "metadata_filtered.to_csv('metadata/strain-table-filtered.csv', index=False)\n",
    "metadata_filtered.to_csv('metadata/gwas-strain-table-filtered.csv', index=False, columns=['GWAS_ID', 'AZI_LOG', 'CRO_LOG', 'CIP_LOG'])"
   ]
  },
  {
   "cell_type": "markdown",
   "metadata": {},
   "source": [
    "We are left with the following number of samples for each drug for linear modeling / GWAS."
   ]
  },
  {
   "cell_type": "code",
   "execution_count": 67,
   "metadata": {
    "ExecuteTime": {
     "end_time": "2020-04-28T00:32:59.191932Z",
     "start_time": "2020-04-28T00:32:59.166191Z"
    }
   },
   "outputs": [
    {
     "data": {
      "text/plain": [
       "AZI_LOG    4505\n",
       "CRO_LOG    4497\n",
       "CIP_LOG    4135\n",
       "dtype: int64"
      ]
     },
     "execution_count": 67,
     "metadata": {},
     "output_type": "execute_result"
    }
   ],
   "source": [
    "metadata_filtered.count()[-3:]"
   ]
  },
  {
   "cell_type": "markdown",
   "metadata": {},
   "source": [
    "## Linear modeling\n",
    "\n",
    "We first used a regression model based on the known resistance determinants to assess how much resistance / susceptibility was already explained, in order to motivate usage of GWAS. To do this we make use of the previously called resistance alleles. We've summarized those for our dataset in the linear-models/covariates/combined-covariates.csv file."
   ]
  },
  {
   "cell_type": "code",
   "execution_count": 1,
   "metadata": {
    "ExecuteTime": {
     "end_time": "2020-04-28T02:47:00.313265Z",
     "start_time": "2020-04-28T02:46:58.478046Z"
    }
   },
   "outputs": [],
   "source": [
    "import numpy as np\n",
    "import statsmodels\n",
    "import statsmodels.formula.api as smf\n",
    "import seaborn as sns\n",
    "from matplotlib import pyplot as plt\n",
    "import pandas as pd\n",
    "from Bio import SeqIO\n",
    "from collections import Counter\n",
    "%matplotlib inline"
   ]
  },
  {
   "cell_type": "markdown",
   "metadata": {},
   "source": [
    "### Azithromycin"
   ]
  },
  {
   "cell_type": "markdown",
   "metadata": {},
   "source": [
    "We read in the covariates and the MIC file and subset to strains with azithromycin MICs (n=XXXX). After setting baseline levels for the factors to facilitate interpretation, we run regression comparing the model fits with and without inclusion of mtrC LOF alleles."
   ]
  },
  {
   "cell_type": "code",
   "execution_count": 34,
   "metadata": {
    "ExecuteTime": {
     "end_time": "2020-04-28T03:14:46.774019Z",
     "start_time": "2020-04-28T03:14:46.766249Z"
    }
   },
   "outputs": [
    {
     "name": "stdout",
     "output_type": "stream",
     "text": [
      "The rpy2.ipython extension is already loaded. To reload it, use:\n",
      "  %reload_ext rpy2.ipython\n"
     ]
    }
   ],
   "source": [
    "%load_ext rpy2.ipython"
   ]
  },
  {
   "cell_type": "code",
   "execution_count": 37,
   "metadata": {
    "ExecuteTime": {
     "end_time": "2020-04-28T03:15:00.054220Z",
     "start_time": "2020-04-28T03:14:59.314801Z"
    }
   },
   "outputs": [
    {
     "name": "stdout",
     "output_type": "stream",
     "text": [
      "[1] 4505   12\n",
      "      GWAS_ID Country   AZI_LOG MtrR_39 MtrR_45 RplD_70 mtr_promoter        mtrR Mosaic_Mtr_BAPS rRNA23S_2059 rRNA23S_2611   MtrC\n",
      "1  SRR1661153  Canada -1.000000       A       D       G            - full_length              11            0            0 Intact\n",
      "2  SRR1661154  Canada -2.000000       T       G       G            - full_length              11            0            0 Intact\n",
      "3  SRR1661155  Canada  0.000000       A       G       G            - full_length              11            0            0 Intact\n",
      "4  SRR1661156  Canada -2.000000       T       D       G            - full_length              11            0            0 Intact\n",
      "5  SRR1661157  Canada -3.000000       A       G       G     Unmapped full_length              11            0            0 Intact\n",
      "6  SRR1661158  Canada -2.000000       A       D       G            - full_length              11            0            0 Intact\n",
      "7  SRR1661159  Canada -3.988504       A       G       G            A full_length               9            0            0 Intact\n",
      "8  SRR1661161  Canada -1.000000       A       G       G            - full_length              11            0            0 Intact\n",
      "9  SRR1661162  Canada -3.988504       A       G       G            A full_length              10            0            0 Intact\n",
      "10 SRR1661163  Canada -1.000000       T       G       G            A full_length              11            0            0 Intact\n"
     ]
    }
   ],
   "source": [
    "%%R -o azi_df -w 8 -h 4 --units in -r 400\n",
    "\n",
    "library(tidyverse)\n",
    "library(dplyr)\n",
    "library(ggplot2)\n",
    "\n",
    "azi_df = read.table(\"linear-models/covariates/combined-covariates.csv\", sep=\",\", header=TRUE, comment.char=\"\", na.strings=c(\"\", \"NA\"), stringsAsFactors=FALSE)\n",
    "pheno = read.table(\"metadata/strain-table-filtered.csv\", sep=\",\", header=TRUE, comment.char=\"\", na.strings=c(\"\", \"NA\"), stringsAsFactors=FALSE)\n",
    "pheno <- pheno %>%\n",
    "    select(GWAS_ID, AZI_LOG, CRO_LOG, CIP_LOG, MtrC)\n",
    "\n",
    "azi_df <- azi_df %>% \n",
    "    left_join(pheno, by = c(\"GWAS_ID\")) %>% \n",
    "    select(GWAS_ID, Country, AZI_LOG, MtrR_39, MtrR_45, RplD_70, mtr_promoter, \n",
    "           mtrR, Mosaic_Mtr_BAPS, rRNA23S_2059, rRNA23S_2611, MtrC) %>%\n",
    "    filter(!is.na(AZI_LOG)) %>%\n",
    "\n",
    "   replace(is.na(.), \"Unmapped\") %>% # Some mosaic alleles do not map well in SNP calling\n",
    "\n",
    "    within(., Country <- relevel(factor(Country), ref = \"USA\")) %>% # Relevel baseline factors to faciliate interpretation\n",
    "    within(., MtrR_39 <- relevel(factor(MtrR_39), ref = \"A\")) %>%\n",
    "    within(., MtrR_45 <- relevel(factor(MtrR_45), ref = \"G\")) %>% \n",
    "    within(., RplD_70 <- relevel(factor(RplD_70), ref = \"G\")) %>% \n",
    "    within(., mtr_promoter <- relevel(factor(mtr_promoter), ref = \"A\")) %>%\n",
    "    within(., mtrR <- relevel(factor(mtrR), ref = \"full_length\")) %>%\n",
    "    within(., Mosaic_Mtr_BAPS <- relevel(factor(Mosaic_Mtr_BAPS), ref = \"11\")) %>%\n",
    "    within(., MtrC <- relevel(factor(MtrC), ref = \"Intact\"))\n",
    "\n",
    "print(dim(azi_df))\n",
    "head(azi_df, n=10)"
   ]
  },
  {
   "cell_type": "markdown",
   "metadata": {},
   "source": [
    "Now we run the regression on the genetic determinants for azithromycin resistance, comparing the results with and without including mtrC LOF alleles."
   ]
  },
  {
   "cell_type": "code",
   "execution_count": 6,
   "metadata": {
    "ExecuteTime": {
     "end_time": "2020-04-28T02:47:34.654720Z",
     "start_time": "2020-04-28T02:47:33.741861Z"
    }
   },
   "outputs": [
    {
     "name": "stdout",
     "output_type": "stream",
     "text": [
      "\n",
      "Call:\n",
      "lm(formula = AZI_LOG ~ Country + (. - GWAS_ID - Country), data = azi_df, \n",
      "    x = TRUE, y = TRUE)\n",
      "\n",
      "Residuals:\n",
      "     Min       1Q   Median       3Q      Max \n",
      "-11.2256  -0.6577   0.0690   0.6550   8.3291 \n",
      "\n",
      "Coefficients:\n",
      "                           Estimate Std. Error t value Pr(>|t|)    \n",
      "(Intercept)                -2.59723    0.06078 -42.732  < 2e-16 ***\n",
      "CountryAngola              -0.71920    1.21676  -0.591 0.554499    \n",
      "CountryArgentina            0.34228    1.21650   0.281 0.778443    \n",
      "CountryArmenia              0.67311    1.21737   0.553 0.580343    \n",
      "CountryAustralia           -0.69973    0.12106  -5.780 7.97e-09 ***\n",
      "CountryAustria             -0.03016    0.54452  -0.055 0.955831    \n",
      "CountryBelarus              0.12162    0.24540   0.496 0.620217    \n",
      "CountryBelgium             -0.10830    0.16785  -0.645 0.518804    \n",
      "CountryBhutan              -1.43434    0.57508  -2.494 0.012663 *  \n",
      "CountryBrazil              -0.18021    0.86156  -0.209 0.834327    \n",
      "CountryBulgaria            -0.78878    1.21548  -0.649 0.516407    \n",
      "CountryCabo Verde          -1.50291    0.86544  -1.737 0.082530 .  \n",
      "CountryCanada               0.34947    0.07783   4.490 7.29e-06 ***\n",
      "CountryCaribbean           -4.58999    1.21670  -3.772 0.000164 ***\n",
      "CountryChile                0.33773    0.86079   0.392 0.694823    \n",
      "CountryChina               -0.92027    0.43200  -2.130 0.033204 *  \n",
      "CountryCuba                -2.15223    0.60998  -3.528 0.000422 ***\n",
      "CountryCyprus               0.39926    0.94411   0.423 0.672387    \n",
      "CountryDenmark             -0.35636    0.15927  -2.237 0.025305 *  \n",
      "CountryEcuador             -1.19615    1.21651  -0.983 0.325533    \n",
      "CountryEstonia              0.19759    0.29856   0.662 0.508123    \n",
      "CountryFinland              0.21122    1.21548   0.174 0.862051    \n",
      "CountryFrance              -0.83512    0.15866  -5.264 1.48e-07 ***\n",
      "CountryGermany             -1.54788    0.46097  -3.358 0.000792 ***\n",
      "CountryGreece               0.14994    0.17146   0.874 0.381901    \n",
      "CountryGuinea              -2.92263    1.21673  -2.402 0.016345 *  \n",
      "CountryGuinea-Bissau       -1.23737    0.25322  -4.887 1.06e-06 ***\n",
      "CountryHungary             -0.70941    0.60878  -1.165 0.243956    \n",
      "CountryIceland             -0.42478    0.54431  -0.780 0.435190    \n",
      "CountryIndia               -0.81759    0.26711  -3.061 0.002220 ** \n",
      "CountryIndonesia           -1.91339    0.54511  -3.510 0.000452 ***\n",
      "CountryIreland              1.05456    0.19900   5.299 1.22e-07 ***\n",
      "CountryItaly               -3.78406    0.23267 -16.264  < 2e-16 ***\n",
      "CountryIvory Coast         -1.30540    0.86113  -1.516 0.129611    \n",
      "CountryJamaica             -1.75208    0.86089  -2.035 0.041890 *  \n",
      "CountryJapan               -0.30963    0.08135  -3.806 0.000143 ***\n",
      "CountryLatvia               0.50515    0.38587   1.309 0.190556    \n",
      "CountryMalaysia            -1.65243    0.86128  -1.919 0.055103 .  \n",
      "CountryMalta               -1.71016    0.27548  -6.208 5.87e-10 ***\n",
      "CountryMorocco             -1.73678    0.70249  -2.472 0.013462 *  \n",
      "CountryNetherlands         -0.81784    0.15530  -5.266 1.46e-07 ***\n",
      "CountryNew Zealand         -0.58525    0.06970  -8.396  < 2e-16 ***\n",
      "CountryNorway              -0.11792    0.25552  -0.461 0.644465    \n",
      "CountryPakistan            -0.43244    0.32669  -1.324 0.185671    \n",
      "CountryPhilipines          -0.78878    1.21548  -0.649 0.516407    \n",
      "CountryPhilippines         -1.46571    0.33898  -4.324 1.57e-05 ***\n",
      "CountryPoland              -0.77891    0.21371  -3.645 0.000271 ***\n",
      "CountryPortugal            -0.47293    0.12800  -3.695 0.000223 ***\n",
      "CountryRomania             -1.44619    1.21673  -1.189 0.234666    \n",
      "CountryRussia               0.20113    0.38572   0.521 0.602081    \n",
      "CountrySaudi Arabia        -2.75457    1.21548  -2.266 0.023485 *  \n",
      "CountryScotland            -0.54569    0.86160  -0.633 0.526542    \n",
      "CountrySlovakia             0.15254    0.46051   0.331 0.740478    \n",
      "CountrySlovenia            -0.36436    0.25005  -1.457 0.145147    \n",
      "CountrySouth Africa        -1.45175    0.70262  -2.066 0.038867 *  \n",
      "CountrySpain               -0.16706    0.11364  -1.470 0.141597    \n",
      "CountrySweden              -0.38520    0.16774  -2.296 0.021697 *  \n",
      "CountryTanzania            -1.69615    0.86130  -1.969 0.048982 *  \n",
      "CountryThailand            -1.47490    0.25053  -5.887 4.22e-09 ***\n",
      "CountryThe Gambia          -1.61640    0.54620  -2.959 0.003099 ** \n",
      "CountryTurkey              -1.15141    0.60925  -1.890 0.058839 .  \n",
      "CountryUganda              -1.97439    1.21818  -1.621 0.105139    \n",
      "CountryUK                  -0.51733    0.07015  -7.375 1.96e-13 ***\n",
      "CountryUnmapped             1.23825    1.21629   1.018 0.308706    \n",
      "CountryVietnam             -0.20824    0.49760  -0.418 0.675615    \n",
      "MtrR_39T                    0.07764    0.06379   1.217 0.223631    \n",
      "MtrR_39Unmapped             0.30008    0.28443   1.055 0.291481    \n",
      "MtrR_45D                    0.35898    0.06245   5.748 9.64e-09 ***\n",
      "MtrR_45Unmapped             0.26632    0.35440   0.751 0.452408    \n",
      "RplD_70A                    1.71827    0.45580   3.770 0.000166 ***\n",
      "RplD_70D                    1.15708    0.09146  12.651  < 2e-16 ***\n",
      "RplD_70R                    3.09290    0.86155   3.590 0.000334 ***\n",
      "RplD_70S                    1.24771    0.86216   1.447 0.147913    \n",
      "RplD_70Unmapped             1.20887    0.78101   1.548 0.121736    \n",
      "mtr_promoter-               1.38601    0.05787  23.951  < 2e-16 ***\n",
      "mtr_promoterG               1.59723    1.21648   1.313 0.189251    \n",
      "mtr_promoterUnmapped        0.99420    0.18224   5.455 5.15e-08 ***\n",
      "mtrRtruncated              -0.03082    0.08063  -0.382 0.702297    \n",
      "mtrRUnmapped               -3.07908    1.28079  -2.404 0.016255 *  \n",
      "Mosaic_Mtr_BAPS-2147483648  0.22286    0.44879   0.497 0.619510    \n",
      "Mosaic_Mtr_BAPS1            1.17731    0.08230  14.306  < 2e-16 ***\n",
      "Mosaic_Mtr_BAPS2            2.00281    0.32178   6.224 5.29e-10 ***\n",
      "Mosaic_Mtr_BAPS3            2.18668    0.37879   5.773 8.33e-09 ***\n",
      "Mosaic_Mtr_BAPS4            2.47636    0.31262   7.921 2.95e-15 ***\n",
      "Mosaic_Mtr_BAPS5            0.74703    0.40903   1.826 0.067868 .  \n",
      "Mosaic_Mtr_BAPS6            1.78050    0.39831   4.470 8.01e-06 ***\n",
      "Mosaic_Mtr_BAPS7           -0.18073    0.64150  -0.282 0.778161    \n",
      "Mosaic_Mtr_BAPS8            1.04079    0.29370   3.544 0.000399 ***\n",
      "Mosaic_Mtr_BAPS9           -0.17240    0.05908  -2.918 0.003538 ** \n",
      "Mosaic_Mtr_BAPS10          -0.47181    0.07377  -6.396 1.77e-10 ***\n",
      "Mosaic_Mtr_BAPS12           1.55826    0.27927   5.580 2.55e-08 ***\n",
      "rRNA23S_2059                2.51025    0.04938  50.835  < 2e-16 ***\n",
      "rRNA23S_2611                1.14261    0.02044  55.898  < 2e-16 ***\n",
      "MtrCLOF                    -2.59747    0.09796 -26.515  < 2e-16 ***\n",
      "---\n",
      "Signif. codes:  0 ‘***’ 0.001 ‘**’ 0.01 ‘*’ 0.05 ‘.’ 0.1 ‘ ’ 1\n",
      "\n",
      "Residual standard error: 1.215 on 4411 degrees of freedom\n",
      "Multiple R-squared:   0.71,\tAdjusted R-squared:  0.7039 \n",
      "F-statistic: 116.1 on 93 and 4411 DF,  p-value: < 2.2e-16\n",
      "\n"
     ]
    }
   ],
   "source": [
    "%%R -w 8 -h 4 --units in -r 400\n",
    "\n",
    "library(jtools)\n",
    "options(width = 250) \n",
    "\n",
    "model1 <- lm(AZI_LOG ~ Country+(.-GWAS_ID-Country-MtrC), data=azi_df, x=TRUE, y=TRUE)\n",
    "write.csv(tidy(model1) %>% select('term', 'std.error', 'estimate', 'p.value'), 'linear-models/results/lm-AZI.csv', row.names = FALSE)\n",
    "summary(model1)\n",
    "\n",
    "model2 <- lm(AZI_LOG ~ Country+(.-GWAS_ID-Country), data=azi_df, x=TRUE, y=TRUE)\n",
    "write.csv(tidy(model2) %>% select('term', 'std.error', 'estimate', 'p.value'), 'linear-models/results/lm-AZI-mtrC.csv', row.names = FALSE)\n",
    "summary(model2)"
   ]
  },
  {
   "cell_type": "markdown",
   "metadata": {},
   "source": [
    "As a regression diagnostic, we check that the residuals are approximately normally distributed. We saw above in the regression output that the individual coefficient for MtrC LOF was significant, but we also formally test whether inclusion of MtrC LOF improves overall model fit using a Chi-squared test for nested models and see that this result is significant as well."
   ]
  },
  {
   "cell_type": "code",
   "execution_count": 7,
   "metadata": {
    "ExecuteTime": {
     "end_time": "2020-04-28T02:47:48.102817Z",
     "start_time": "2020-04-28T02:47:41.393104Z"
    }
   },
   "outputs": [
    {
     "name": "stdout",
     "output_type": "stream",
     "text": [
      "Analysis of Variance Table\n",
      "\n",
      "Model 1: AZI_LOG ~ Country + ((GWAS_ID + Country + MtrR_39 + MtrR_45 + \n",
      "    RplD_70 + mtr_promoter + mtrR + Mosaic_Mtr_BAPS + rRNA23S_2059 + \n",
      "    rRNA23S_2611 + MtrC) - GWAS_ID - Country - MtrC)\n",
      "Model 2: AZI_LOG ~ Country + ((GWAS_ID + Country + MtrR_39 + MtrR_45 + \n",
      "    RplD_70 + mtr_promoter + mtrR + Mosaic_Mtr_BAPS + rRNA23S_2059 + \n",
      "    rRNA23S_2611 + MtrC) - GWAS_ID - Country)\n",
      "  Res.Df    RSS Df Sum of Sq  Pr(>Chi)    \n",
      "1   4412 7548.9                           \n",
      "2   4411 6511.2  1    1037.8 < 2.2e-16 ***\n",
      "---\n",
      "Signif. codes:  0 ‘***’ 0.001 ‘**’ 0.01 ‘*’ 0.05 ‘.’ 0.1 ‘ ’ 1\n"
     ]
    },
    {
     "data": {
      "image/png": "[encoded data removed]"
     },
     "metadata": {},
     "output_type": "display_data"
    }
   ],
   "source": [
    "%%R -w 8 -o residuals1 -o residuals2 -h 4 --units in -r 400\n",
    "\n",
    "print(anova(model1, model2, test='Chisq'))\n",
    "\n",
    "residuals1 <- resid(model1)\n",
    "residuals2 <- resid(model2)\n",
    "ggplot() + aes(residuals2)+ geom_histogram(binwidth=1, colour=\"black\", fill=\"white\") + ggtitle(\"AZI Residuals\") + theme(plot.title = element_text(hjust = 0.5)) + xlim(-5, 5)"
   ]
  },
  {
   "cell_type": "markdown",
   "metadata": {},
   "source": [
    "Finally, we compare the changes in the number of strains with unexplained susceptibility (defined as actual MIC two dilutions or lower than predicted MIC from the model). This is equivalent to asking about the number of strains with residuals (or model error) less than or equal to -2."
   ]
  },
  {
   "cell_type": "code",
   "execution_count": 11,
   "metadata": {
    "ExecuteTime": {
     "end_time": "2020-04-28T02:47:59.731491Z",
     "start_time": "2020-04-28T02:47:59.699433Z"
    }
   },
   "outputs": [
    {
     "name": "stdout",
     "output_type": "stream",
     "text": [
      "Out of 4505 strains with azithromycin MICs, in the baseline model 434 strains (9.63%)\n",
      "had MICs that deviated by two dilutions or more from predicted MICs. 258 strains (5.73%) had MICs\n",
      "that were lower than expected, indicating unexplained susceptibility. After addition of MtrC LOFs,\n",
      "339 strains (7.52%) had MICs that deviated by two dilutions or more from predicted MICs, and the\n",
      "number of strains with unexplained susceptibility decreased to 175 strains (3.88%).\n",
      "\n"
     ]
    }
   ],
   "source": [
    "total_n = len(residuals1)\n",
    "model1_error = sum([True if abs(x) > 2 else False for x in residuals1])\n",
    "model2_error = sum([True if abs(x) > 2 else False for x in residuals2])\n",
    "model1_unexpsus = sum([True if x < -2 else False for x in residuals1])\n",
    "model2_unexpsus = sum([True if x < -2 else False for x in residuals2])\n",
    "\n",
    "print('''Out of {0} strains with azithromycin MICs, in the baseline model {1} strains ({2}%)\n",
    "had MICs that deviated by two dilutions or more from predicted MICs. {3} strains ({4}%) had MICs\n",
    "that were lower than expected, indicating unexplained susceptibility. After addition of MtrC LOFs,\n",
    "{5} strains ({6}%) had MICs that deviated by two dilutions or more from predicted MICs, and the\n",
    "number of strains with unexplained susceptibility decreased to {7} strains ({8}%).\n",
    "'''.format(total_n, model1_error, round(model1_error/total_n*100,2), model1_unexpsus, round(model1_unexpsus/total_n*100,2),\n",
    "             model2_error, round(model2_error/total_n*100,2), model2_unexpsus, round(model2_unexpsus/total_n*100,2)))"
   ]
  },
  {
   "cell_type": "markdown",
   "metadata": {},
   "source": [
    "### Ceftriaxone"
   ]
  },
  {
   "cell_type": "markdown",
   "metadata": {},
   "source": [
    "We repeat the same pipeline we used above for azithromycin, but now for ceftriaxone and its resistance determinants."
   ]
  },
  {
   "cell_type": "code",
   "execution_count": 30,
   "metadata": {
    "ExecuteTime": {
     "end_time": "2020-04-28T03:13:46.055673Z",
     "start_time": "2020-04-28T03:13:46.047220Z"
    }
   },
   "outputs": [
    {
     "name": "stdout",
     "output_type": "stream",
     "text": [
      "The rpy2.ipython extension is already loaded. To reload it, use:\n",
      "  %reload_ext rpy2.ipython\n"
     ]
    }
   ],
   "source": [
    "%load_ext rpy2.ipython"
   ]
  },
  {
   "cell_type": "code",
   "execution_count": 32,
   "metadata": {
    "ExecuteTime": {
     "end_time": "2020-04-28T03:13:51.848463Z",
     "start_time": "2020-04-28T03:13:50.930999Z"
    }
   },
   "outputs": [
    {
     "name": "stdout",
     "output_type": "stream",
     "text": [
      "[1] 4497   15\n",
      "      GWAS_ID Country    CRO_LOG MtrR_39 MtrR_45 mtr_promoter        mtrR Mosaic_PenA_BAPS PBP1_421 PBP2_501 PBP2_542 PBP2_551 PorB_120 PorB_121   MtrC\n",
      "1  SRR1661153  Canada  -3.000000       A       D            - full_length               17        P        A        S        P        K        D Intact\n",
      "2  SRR1661154  Canada  -3.000000       T       G            - full_length               17        P        V        G        S        K        D Intact\n",
      "3  SRR1661155  Canada  -2.000000       A       G            - full_length               17        P        A        G        L        K        D Intact\n",
      "4  SRR1661156  Canada  -3.000000       T       D            - full_length               15        P        V        S        P        K        D Intact\n",
      "5  SRR1661157  Canada  -3.000000       A       G     Unmapped full_length               17        P        A        S        P        K        D Intact\n",
      "6  SRR1661158  Canada  -3.000000       A       D            - full_length                1        P Unmapped        G        P        K        N Intact\n",
      "7  SRR1661159  Canada -11.965784       A       G            A full_length               14        L Unmapped Unmapped Unmapped Unmapped Unmapped Intact\n",
      "8  SRR1661161  Canada  -3.000000       A       G            - full_length                1        P Unmapped        G        P        K        D Intact\n",
      "9  SRR1661162  Canada  -7.965784       A       G            A full_length               14        L        A        G        P        G        A Intact\n",
      "10 SRR1661163  Canada  -3.000000       T       G            A full_length               17        L        A        S        P        K        D Intact\n"
     ]
    }
   ],
   "source": [
    "%%R -o cro_df -w 8 -h 4 --units in -r 400\n",
    "\n",
    "library(tidyverse)\n",
    "library(dplyr)\n",
    "library(ggplot2)\n",
    "\n",
    "cro_df = read.table(\"linear-models/covariates/combined-covariates.csv\", sep=\",\", header=TRUE, comment.char=\"\", na.strings=c(\"\", \"NA\"), stringsAsFactors=FALSE)\n",
    "pheno = read.table(\"metadata/strain-table-filtered.csv\", sep=\",\", header=TRUE, comment.char=\"\", na.strings=c(\"\", \"NA\"), stringsAsFactors=FALSE)\n",
    "pheno <- pheno %>%\n",
    "    select(GWAS_ID, AZI_LOG, CRO_LOG, CIP_LOG, MtrC)\n",
    "\n",
    "cro_df <- cro_df %>% \n",
    "    left_join(pheno, by = c(\"GWAS_ID\")) %>% \n",
    "    select(GWAS_ID, Country, CRO_LOG, MtrR_39, MtrR_45, mtr_promoter, \n",
    "           mtrR, Mosaic_PenA_BAPS, PBP1_421, PBP2_501, PBP2_542, PBP2_551, PorB_120, PorB_121, MtrC) %>%\n",
    "    filter(!is.na(CRO_LOG)) %>%\n",
    "\n",
    "   replace(is.na(.), \"Unmapped\") %>% # Some mosaic alleles do not map well in SNP calling\n",
    "\n",
    "    within(., Country <- relevel(factor(Country), ref = \"USA\")) %>% # Relevel baseline factors to faciliate interpretation\n",
    "    within(., MtrR_39 <- relevel(factor(MtrR_39), ref = \"A\")) %>%\n",
    "    within(., MtrR_45 <- relevel(factor(MtrR_45), ref = \"G\")) %>%\n",
    "    within(., PBP1_421 <- relevel(factor(PBP1_421), ref = 'L')) %>%\n",
    "    within(., PBP2_501 <- relevel(factor(PBP2_501), ref = 'A')) %>%\n",
    "    within(., PBP2_542 <- relevel(factor(PBP2_542), ref = 'G')) %>%\n",
    "    within(., PBP2_551 <- relevel(factor(PBP2_551), ref = 'P')) %>%\n",
    "    within(., PorB_120 <- relevel(factor(PorB_120), ref = 'G')) %>%\n",
    "    within(., PorB_121 <- relevel(factor(PorB_121), ref = 'A')) %>%\n",
    "    within(., mtr_promoter <- relevel(factor(mtr_promoter), ref = \"A\")) %>%\n",
    "    within(., mtrR <- relevel(factor(mtrR), ref = \"full_length\")) %>%\n",
    "    within(., Mosaic_PenA_BAPS <- relevel(factor(Mosaic_PenA_BAPS), ref = '17')) %>%\n",
    "    within(., MtrC <- relevel(factor(MtrC), ref = \"Intact\"))\n",
    "\n",
    "print(dim(cro_df))\n",
    "head(cro_df, n=10)"
   ]
  },
  {
   "cell_type": "code",
   "execution_count": 5,
   "metadata": {
    "ExecuteTime": {
     "end_time": "2020-04-28T02:52:11.462254Z",
     "start_time": "2020-04-28T02:52:10.318962Z"
    }
   },
   "outputs": [
    {
     "name": "stdout",
     "output_type": "stream",
     "text": [
      "\n",
      "Call:\n",
      "lm(formula = CRO_LOG ~ Country + (. - GWAS_ID - Country), data = cro_df, \n",
      "    x = TRUE, y = TRUE)\n",
      "\n",
      "Residuals:\n",
      "    Min      1Q  Median      3Q     Max \n",
      "-4.8979 -0.4939 -0.0173  0.4889  6.5431 \n",
      "\n",
      "Coefficients:\n",
      "                             Estimate Std. Error t value Pr(>|t|)    \n",
      "(Intercept)                 -7.157335   0.080932 -88.436  < 2e-16 ***\n",
      "CountryAngola               -1.350470   0.948259  -1.424 0.154472    \n",
      "CountryArgentina            -0.828761   0.946534  -0.876 0.381309    \n",
      "CountryArmenia              -0.489332   0.950257  -0.515 0.606616    \n",
      "CountryAustralia             0.324231   0.094996   3.413 0.000648 ***\n",
      "CountryAustria              -0.099069   0.137000  -0.723 0.469637    \n",
      "CountryBelarus               0.179942   0.198131   0.908 0.363823    \n",
      "CountryBelgium              -0.539111   0.130906  -4.118 3.89e-05 ***\n",
      "CountryBhutan               -1.107032   0.431102  -2.568 0.010264 *  \n",
      "CountryBrazil               -0.235010   0.671688  -0.350 0.726446    \n",
      "CountryBulgaria             -0.182667   0.961589  -0.190 0.849347    \n",
      "CountryCabo Verde           -0.465208   0.678437  -0.686 0.492935    \n",
      "CountryCanada                0.071161   0.059771   1.191 0.233895    \n",
      "CountryCaribbean            -2.397908   0.949248  -2.526 0.011568 *  \n",
      "CountryChile                 0.198667   0.949524   0.209 0.834280    \n",
      "CountryChina                -0.822097   0.339251  -2.423 0.015422 *  \n",
      "CountryCuba                 -1.501385   0.479439  -3.132 0.001750 ** \n",
      "CountryCyprus               -0.127980   0.336490  -0.380 0.703712    \n",
      "CountryDenmark              -0.953127   0.125239  -7.610 3.32e-14 ***\n",
      "CountryEcuador               0.183567   0.948727   0.193 0.846586    \n",
      "CountryEstonia              -0.608682   0.234639  -2.594 0.009515 ** \n",
      "CountryFinland              -1.455084   0.946465  -1.537 0.124270    \n",
      "CountryFrance               -0.865470   0.124497  -6.952 4.14e-12 ***\n",
      "CountryGermany              -0.273452   0.133008  -2.056 0.039851 *  \n",
      "CountryGreece                0.033157   0.134786   0.246 0.805697    \n",
      "CountryGuinea               -2.050826   0.947559  -2.164 0.030493 *  \n",
      "CountryGuinea-Bissau        -1.808516   0.199434  -9.068  < 2e-16 ***\n",
      "CountryHungary              -0.080745   0.138464  -0.583 0.559824    \n",
      "CountryIceland              -0.573062   0.428409  -1.338 0.181080    \n",
      "CountryIndia                -0.087740   0.210636  -0.417 0.677030    \n",
      "CountryIndonesia            -1.469005   0.426286  -3.446 0.000574 ***\n",
      "CountryIreland              -0.960201   0.155033  -6.194 6.42e-10 ***\n",
      "CountryItaly                -1.085239   0.183077  -5.928 3.31e-09 ***\n",
      "CountryIvory Coast          -1.063205   0.673648  -1.578 0.114573    \n",
      "CountryJamaica              -1.171209   0.670983  -1.746 0.080966 .  \n",
      "CountryJapan                -0.561183   0.078133  -7.182 8.01e-13 ***\n",
      "CountryLatvia               -0.137794   0.157587  -0.874 0.381949    \n",
      "CountryMalaysia             -1.516687   0.672632  -2.255 0.024192 *  \n",
      "CountryMalta                 0.694569   0.213987   3.246 0.001180 ** \n",
      "CountryMorocco              -1.688537   0.549016  -3.076 0.002114 ** \n",
      "CountryNetherlands          -0.420905   0.121258  -3.471 0.000523 ***\n",
      "CountryNew Zealand          -0.503506   0.058352  -8.629  < 2e-16 ***\n",
      "CountryNorway               -0.314838   0.120556  -2.612 0.009044 ** \n",
      "CountryPakistan              0.280527   0.269108   1.042 0.297269    \n",
      "CountryPhilippines          -1.341331   0.265615  -5.050 4.60e-07 ***\n",
      "CountryPoland               -0.690149   0.168293  -4.101 4.19e-05 ***\n",
      "CountryPortugal             -1.170686   0.096845 -12.088  < 2e-16 ***\n",
      "CountryRomania              -1.462312   0.956276  -1.529 0.126294    \n",
      "CountryRussia               -0.085506   0.301884  -0.283 0.777005    \n",
      "CountrySaudi Arabia         -0.820772   0.954000  -0.860 0.389644    \n",
      "CountryScotland              0.014231   0.671223   0.021 0.983085    \n",
      "CountrySlovakia              0.098198   0.156934   0.626 0.531524    \n",
      "CountrySlovenia             -0.372291   0.111927  -3.326 0.000888 ***\n",
      "CountrySouth Africa         -1.093501   0.550529  -1.986 0.047065 *  \n",
      "CountrySpain                 0.236794   0.089531   2.645 0.008203 ** \n",
      "CountrySweden               -0.597158   0.136497  -4.375 1.24e-05 ***\n",
      "CountryTanzania             -0.944167   0.672318  -1.404 0.160287    \n",
      "CountryThailand             -1.065091   0.197973  -5.380 7.84e-08 ***\n",
      "CountryThe Gambia           -1.180730   0.426867  -2.766 0.005698 ** \n",
      "CountryTurkey               -1.778583   0.480598  -3.701 0.000218 ***\n",
      "CountryUganda               -0.744181   0.949237  -0.784 0.433095    \n",
      "CountryUK                   -0.970237   0.090748 -10.692  < 2e-16 ***\n",
      "CountryUnmapped             -0.031052   0.962013  -0.032 0.974251    \n",
      "CountryVietnam               0.487862   0.391992   1.245 0.213356    \n",
      "MtrR_39T                    -0.072252   0.052497  -1.376 0.168800    \n",
      "MtrR_39Unmapped              0.150563   0.220205   0.684 0.494174    \n",
      "MtrR_45D                     0.294943   0.053135   5.551 3.01e-08 ***\n",
      "MtrR_45Unmapped              0.359183   0.253469   1.417 0.156534    \n",
      "mtr_promoter-                0.145272   0.062450   2.326 0.020053 *  \n",
      "mtr_promoterG                2.035500   0.957062   2.127 0.033491 *  \n",
      "mtr_promoterUnmapped        -0.076520   0.101250  -0.756 0.449839    \n",
      "mtrRtruncated                0.308222   0.075057   4.107 4.09e-05 ***\n",
      "mtrRUnmapped                -1.865385   0.987438  -1.889 0.058942 .  \n",
      "Mosaic_PenA_BAPS-2147483648  1.732003   0.206632   8.382  < 2e-16 ***\n",
      "Mosaic_PenA_BAPS1            1.866227   0.138819  13.444  < 2e-16 ***\n",
      "Mosaic_PenA_BAPS2            0.233733   0.212992   1.097 0.272536    \n",
      "Mosaic_PenA_BAPS3           -0.457709   0.223561  -2.047 0.040683 *  \n",
      "Mosaic_PenA_BAPS4           -1.551715   0.498215  -3.115 0.001854 ** \n",
      "Mosaic_PenA_BAPS5           -0.187131   0.216656  -0.864 0.387786    \n",
      "Mosaic_PenA_BAPS6            0.015975   0.366361   0.044 0.965221    \n",
      "Mosaic_PenA_BAPS7           -0.407054   0.093784  -4.340 1.45e-05 ***\n",
      "Mosaic_PenA_BAPS8           -1.319117   0.114247 -11.546  < 2e-16 ***\n",
      "Mosaic_PenA_BAPS9           -2.494615   0.550069  -4.535 5.91e-06 ***\n",
      "Mosaic_PenA_BAPS10           0.201901   0.101514   1.989 0.046774 *  \n",
      "Mosaic_PenA_BAPS11          -0.385727   0.084648  -4.557 5.33e-06 ***\n",
      "Mosaic_PenA_BAPS12          -0.422676   0.149049  -2.836 0.004592 ** \n",
      "Mosaic_PenA_BAPS13           0.092563   0.066224   1.398 0.162263    \n",
      "Mosaic_PenA_BAPS14          -0.534963   0.109181  -4.900 9.94e-07 ***\n",
      "Mosaic_PenA_BAPS15          -0.434048   0.123007  -3.529 0.000422 ***\n",
      "Mosaic_PenA_BAPS16           0.244171   0.182536   1.338 0.181076    \n",
      "PBP1_421P                    0.149244   0.056390   2.647 0.008158 ** \n",
      "PBP1_421Unmapped            -0.105887   0.231176  -0.458 0.646949    \n",
      "PBP2_501T                    0.824008   0.080438  10.244  < 2e-16 ***\n",
      "PBP2_501Unmapped             0.511950   0.144688   3.538 0.000407 ***\n",
      "PBP2_501V                    1.502831   0.119990  12.525  < 2e-16 ***\n",
      "PBP2_542S                    1.361035   0.127170  10.702  < 2e-16 ***\n",
      "PBP2_542Unmapped            -1.032973   0.164036  -6.297 3.33e-10 ***\n",
      "PBP2_551L                    0.587791   0.076699   7.664 2.21e-14 ***\n",
      "PBP2_551S                    0.951602   0.099193   9.593  < 2e-16 ***\n",
      "PBP2_551Unmapped             0.696537   0.137566   5.063 4.29e-07 ***\n",
      "PorB_120D                    0.325907   0.136421   2.389 0.016937 *  \n",
      "PorB_120K                    0.827295   0.156226   5.296 1.24e-07 ***\n",
      "PorB_120N                    0.351416   0.167359   2.100 0.035805 *  \n",
      "PorB_120R                    0.216397   0.499259   0.433 0.664719    \n",
      "PorB_120Unmapped             0.274276   0.173668   1.579 0.114336    \n",
      "PorB_121D                    0.053039   0.151478   0.350 0.726247    \n",
      "PorB_121G                   -0.052211   0.169709  -0.308 0.758363    \n",
      "PorB_121N                    0.006645   0.160757   0.041 0.967030    \n",
      "PorB_121Unmapped            -0.098761   0.178041  -0.555 0.579120    \n",
      "PorB_121V                    0.292792   0.475385   0.616 0.537989    \n",
      "MtrCLOF                     -1.171488   0.076710 -15.272  < 2e-16 ***\n",
      "---\n",
      "Signif. codes:  0 ‘***’ 0.001 ‘**’ 0.01 ‘*’ 0.05 ‘.’ 0.1 ‘ ’ 1\n",
      "\n",
      "Residual standard error: 0.9456 on 4386 degrees of freedom\n"
     ]
    },
    {
     "name": "stdout",
     "output_type": "stream",
     "text": [
      "Multiple R-squared:  0.698,\tAdjusted R-squared:  0.6904 \n",
      "F-statistic: 92.14 on 110 and 4386 DF,  p-value: < 2.2e-16\n",
      "\n"
     ]
    }
   ],
   "source": [
    "%%R -w 8 -h 4 --units in -r 400\n",
    "\n",
    "library(jtools)\n",
    "options(width = 250) \n",
    "\n",
    "model1 <- lm(CRO_LOG ~ Country+(.-GWAS_ID-Country-MtrC), data=cro_df, x=TRUE, y=TRUE)\n",
    "write.csv(tidy(model1) %>% select('term', 'std.error', 'estimate', 'p.value'), 'linear-models/results/lm-CRO.csv', row.names = FALSE)\n",
    "summary(model1)\n",
    "\n",
    "model2 <- lm(CRO_LOG ~ Country+(.-GWAS_ID-Country), data=cro_df, x=TRUE, y=TRUE)\n",
    "write.csv(tidy(model2) %>% select('term', 'std.error', 'estimate', 'p.value'), 'linear-models/results/lm-CRO-mtrC.csv', row.names = FALSE)\n",
    "summary(model2)"
   ]
  },
  {
   "cell_type": "code",
   "execution_count": 7,
   "metadata": {
    "ExecuteTime": {
     "end_time": "2020-04-28T02:52:45.464979Z",
     "start_time": "2020-04-28T02:52:45.244557Z"
    }
   },
   "outputs": [
    {
     "name": "stdout",
     "output_type": "stream",
     "text": [
      "Analysis of Variance Table\n",
      "\n",
      "Model 1: CRO_LOG ~ Country + ((GWAS_ID + Country + MtrR_39 + MtrR_45 + \n",
      "    mtr_promoter + mtrR + Mosaic_PenA_BAPS + PBP1_421 + PBP2_501 + \n",
      "    PBP2_542 + PBP2_551 + PorB_120 + PorB_121 + MtrC) - GWAS_ID - \n",
      "    Country - MtrC)\n",
      "Model 2: CRO_LOG ~ Country + ((GWAS_ID + Country + MtrR_39 + MtrR_45 + \n",
      "    mtr_promoter + mtrR + Mosaic_PenA_BAPS + PBP1_421 + PBP2_501 + \n",
      "    PBP2_542 + PBP2_551 + PorB_120 + PorB_121 + MtrC) - GWAS_ID - \n",
      "    Country)\n",
      "  Res.Df    RSS Df Sum of Sq  Pr(>Chi)    \n",
      "1   4387 4130.0                           \n",
      "2   4386 3921.5  1    208.52 < 2.2e-16 ***\n",
      "---\n",
      "Signif. codes:  0 ‘***’ 0.001 ‘**’ 0.01 ‘*’ 0.05 ‘.’ 0.1 ‘ ’ 1\n"
     ]
    }
   ],
   "source": [
    "%%R -w 8 -o residuals1 -o residuals2 -h 4 --units in -r 400\n",
    "\n",
    "print(anova(model1, model2, test='Chisq'))\n",
    "\n",
    "residuals1 <- resid(model1)\n",
    "residuals2 <- resid(model2)\n",
    "#ggplot() + aes(residuals2)+ geom_histogram(binwidth=1, colour=\"black\", fill=\"white\") + ggtitle(\"CRO Residuals\") + theme(plot.title = element_text(hjust = 0.5)) + xlim(-5, 5)"
   ]
  },
  {
   "cell_type": "code",
   "execution_count": 8,
   "metadata": {
    "ExecuteTime": {
     "end_time": "2020-04-28T02:52:56.171375Z",
     "start_time": "2020-04-28T02:52:56.134751Z"
    }
   },
   "outputs": [
    {
     "name": "stdout",
     "output_type": "stream",
     "text": [
      "Out of 4497 strains with ceftriaxone MICs, in the baseline model 183 strains (4.07%)\n",
      "had MICs that deviated by two dilutions or more from predicted MICs. 91 strains (2.02%) had MICs\n",
      "that were lower than expected, indicating unexplained susceptibility. After addition of MtrC LOFs,\n",
      "163 strains (3.62%) had MICs that deviated by two dilutions or more from predicted MICs, and the\n",
      "number of strains with unexplained susceptibility decreased to 78 strains (1.73%).\n",
      "\n"
     ]
    }
   ],
   "source": [
    "total_n = len(residuals1)\n",
    "model1_error = sum([True if abs(x) > 2 else False for x in residuals1])\n",
    "model2_error = sum([True if abs(x) > 2 else False for x in residuals2])\n",
    "model1_unexpsus = sum([True if x < -2 else False for x in residuals1])\n",
    "model2_unexpsus = sum([True if x < -2 else False for x in residuals2])\n",
    "\n",
    "print('''Out of {0} strains with ceftriaxone MICs, in the baseline model {1} strains ({2}%)\n",
    "had MICs that deviated by two dilutions or more from predicted MICs. {3} strains ({4}%) had MICs\n",
    "that were lower than expected, indicating unexplained susceptibility. After addition of MtrC LOFs,\n",
    "{5} strains ({6}%) had MICs that deviated by two dilutions or more from predicted MICs, and the\n",
    "number of strains with unexplained susceptibility decreased to {7} strains ({8}%).\n",
    "'''.format(total_n, model1_error, round(model1_error/total_n*100,2), model1_unexpsus, round(model1_unexpsus/total_n*100,2),\n",
    "             model2_error, round(model2_error/total_n*100,2), model2_unexpsus, round(model2_unexpsus/total_n*100,2)))"
   ]
  },
  {
   "cell_type": "markdown",
   "metadata": {},
   "source": [
    "### Ciprofloxacin"
   ]
  },
  {
   "cell_type": "markdown",
   "metadata": {},
   "source": [
    "We repeat the same pipeline we used above for azithromycin, but now for ciprofloxacin and its resistance determinants."
   ]
  },
  {
   "cell_type": "code",
   "execution_count": 1,
   "metadata": {
    "ExecuteTime": {
     "end_time": "2020-04-28T02:54:07.282667Z",
     "start_time": "2020-04-28T02:54:06.572527Z"
    }
   },
   "outputs": [],
   "source": [
    "%load_ext rpy2.ipython"
   ]
  },
  {
   "cell_type": "code",
   "execution_count": 10,
   "metadata": {
    "ExecuteTime": {
     "end_time": "2020-04-28T03:07:18.743282Z",
     "start_time": "2020-04-28T03:07:17.847294Z"
    }
   },
   "outputs": [
    {
     "name": "stdout",
     "output_type": "stream",
     "text": [
      "[1] 4135   15\n",
      "      GWAS_ID Country   CIP_LOG MtrR_39 MtrR_45 mtr_promoter        mtrR GyrA_91 GyrA_95 ParC_86 ParC_87 ParC_91 PorB_120 PorB_121   MtrC\n",
      "1  SRR1661153  Canada -5.965784       A       D            - full_length       S       D       G       S       E        K        D Intact\n",
      "2  SRR1661154  Canada -1.000000       T       G            - full_length       Y       D       G       S       E        K        D Intact\n",
      "3  SRR1661155  Canada -5.965784       A       G            - full_length       S       D       G       S       E        K        D Intact\n",
      "4  SRR1661156  Canada  4.000000       T       D            - full_length       F       G       G       S       G        K        D Intact\n",
      "5  SRR1661157  Canada -5.965784       A       G     Unmapped full_length       S       D       G       S       E        K        D Intact\n",
      "6  SRR1661158  Canada -1.000000       A       D            - full_length       F       D       G       S       E        K        N Intact\n",
      "7  SRR1661159  Canada -3.988504       A       G            A full_length       Y       D       G       S       E Unmapped Unmapped Intact\n",
      "8  SRR1661161  Canada  4.000000       A       G            - full_length       F       G       G       R       E        K        D Intact\n",
      "9  SRR1661162  Canada -7.965784       A       G            A full_length       S       D       G       S       E        G        A Intact\n",
      "10 SRR1661163  Canada -4.965784       T       G            A full_length       S       D       G       S       E        K        D Intact\n"
     ]
    }
   ],
   "source": [
    "%%R -o cip_df -w 8 -h 4 --units in -r 400\n",
    "\n",
    "library(tidyverse)\n",
    "library(dplyr)\n",
    "library(ggplot2)\n",
    "\n",
    "cip_df = read.table(\"linear-models/covariates/combined-covariates.csv\", sep=\",\", header=TRUE, comment.char=\"\", na.strings=c(\"\", \"NA\"), stringsAsFactors=FALSE)\n",
    "pheno = read.table(\"metadata/strain-table-filtered.csv\", sep=\",\", header=TRUE, comment.char=\"\", na.strings=c(\"\", \"NA\"), stringsAsFactors=FALSE)\n",
    "pheno <- pheno %>%\n",
    "    select(GWAS_ID, AZI_LOG, CRO_LOG, CIP_LOG, MtrC)\n",
    "\n",
    "cip_df <- cip_df %>% \n",
    "    left_join(pheno, by = c(\"GWAS_ID\")) %>% \n",
    "    select(GWAS_ID, Country, CIP_LOG, MtrR_39, MtrR_45, mtr_promoter, \n",
    "           mtrR, GyrA_91, GyrA_95, ParC_86, ParC_87, ParC_91, PorB_120, PorB_121, MtrC) %>%\n",
    "    filter(!is.na(CIP_LOG)) %>%\n",
    "\n",
    "   replace(is.na(.), \"Unmapped\") %>% # Some mosaic alleles do not map well in SNP calling\n",
    "\n",
    "    within(., Country <- relevel(factor(Country), ref = \"USA\")) %>% # Relevel baseline factors to faciliate interpretation\n",
    "    within(., MtrR_39 <- relevel(factor(MtrR_39), ref = \"A\")) %>%\n",
    "    within(., MtrR_45 <- relevel(factor(MtrR_45), ref = \"G\")) %>%\n",
    "    within(., GyrA_91 <- relevel(factor(GyrA_91), ref = 'S')) %>%\n",
    "    within(., GyrA_95 <- relevel(factor(GyrA_95), ref = 'D')) %>%\n",
    "    within(., ParC_86 <- relevel(factor(ParC_86), ref = 'G')) %>%\n",
    "    within(., ParC_87 <- relevel(factor(ParC_87), ref = 'S')) %>%\n",
    "    within(., ParC_91 <- relevel(factor(ParC_91), ref = 'E')) %>%\n",
    "    within(., PorB_120 <- relevel(factor(PorB_120), ref = 'G')) %>%\n",
    "    within(., PorB_121 <- relevel(factor(PorB_121), ref = 'A')) %>%\n",
    "    within(., mtr_promoter <- relevel(factor(mtr_promoter), ref = \"A\")) %>%\n",
    "    within(., mtrR <- relevel(factor(mtrR), ref = \"full_length\")) %>%\n",
    "    within(., MtrC <- relevel(factor(MtrC), ref = \"Intact\"))\n",
    "\n",
    "print(dim(cip_df))\n",
    "head(cip_df, n=10)"
   ]
  },
  {
   "cell_type": "code",
   "execution_count": 3,
   "metadata": {
    "ExecuteTime": {
     "end_time": "2020-04-28T02:56:41.025976Z",
     "start_time": "2020-04-28T02:56:39.961773Z"
    }
   },
   "outputs": [
    {
     "name": "stdout",
     "output_type": "stream",
     "text": [
      "\n",
      "Call:\n",
      "lm(formula = CIP_LOG ~ Country + (. - GWAS_ID - Country), data = cip_df, \n",
      "    x = TRUE, y = TRUE)\n",
      "\n",
      "Residuals:\n",
      "     Min       1Q   Median       3Q      Max \n",
      "-12.5298  -0.6592   0.0182   0.5221  14.0042 \n",
      "\n",
      "Coefficients:\n",
      "                       Estimate Std. Error  t value Pr(>|t|)    \n",
      "(Intercept)          -7.7216648  0.0647762 -119.205  < 2e-16 ***\n",
      "CountryAngola        -0.7760453  1.3764501   -0.564 0.572920    \n",
      "CountryArgentina      0.6389922  1.3764501    0.464 0.642507    \n",
      "CountryArmenia        0.3408430  1.3767808    0.248 0.804483    \n",
      "CountryAustralia      1.1182057  0.1386082    8.067 9.38e-16 ***\n",
      "CountryBelarus       -0.0102696  0.3574475   -0.029 0.977081    \n",
      "CountryBelgium       -0.1185138  0.1898695   -0.624 0.532541    \n",
      "CountryBhutan        -2.9402808  0.6292084   -4.673 3.07e-06 ***\n",
      "CountryBrazil        -1.4269425  0.9779259   -1.459 0.144601    \n",
      "CountryBulgaria      -0.7560068  1.3768564   -0.549 0.582980    \n",
      "CountryCabo Verde    -0.2690012  0.9818766   -0.274 0.784124    \n",
      "CountryCanada         0.0238737  0.1329078    0.180 0.857455    \n",
      "CountryCaribbean     -1.7164835  1.3793627   -1.244 0.213423    \n",
      "CountryChile         -0.1479970  1.3796914   -0.107 0.914582    \n",
      "CountryChina          0.3885834  0.4962345    0.783 0.433635    \n",
      "CountryCuba          -0.9255279  0.6938331   -1.334 0.182301    \n",
      "CountryDenmark       -0.2335447  0.1809669   -1.291 0.196938    \n",
      "CountryEcuador        0.3408430  1.3767808    0.248 0.804483    \n",
      "CountryEstonia       -0.0103894  0.3737780   -0.028 0.977826    \n",
      "CountryFinland        1.1425490  1.3764269    0.830 0.406541    \n",
      "CountryFrance         0.3755305  0.1829308    2.053 0.040151 *  \n",
      "CountryGermany       -2.2093580  0.5216716   -4.235 2.33e-05 ***\n",
      "CountryGreece         0.9043614  0.1970659    4.589 4.59e-06 ***\n",
      "CountryGuinea        -1.3679404  1.3779583   -0.993 0.320901    \n",
      "CountryGuinea-Bissau -0.9432238  0.2878516   -3.277 0.001059 ** \n",
      "CountryHungary       -6.7902512  0.9736391   -6.974 3.58e-12 ***\n",
      "CountryIceland       -0.3471850  0.6201027   -0.560 0.575590    \n",
      "CountryIndia         -0.8962627  0.3323241   -2.697 0.007027 ** \n",
      "CountryIndonesia     -0.9583730  0.6209467   -1.543 0.122811    \n",
      "CountryIreland       -0.2934515  0.2258664   -1.299 0.193941    \n",
      "CountryItaly          0.3160356  0.2654158    1.191 0.233834    \n",
      "CountryIvory Coast    0.2615417  1.0292984    0.254 0.799434    \n",
      "CountryJamaica       -0.8800738  0.9741768   -0.903 0.366366    \n",
      "CountryJapan          0.6661229  0.1102699    6.041 1.67e-09 ***\n",
      "CountryMalaysia      -0.3231923  0.9902421   -0.326 0.744156    \n",
      "CountryMalta         -1.3124670  0.3132509   -4.190 2.85e-05 ***\n",
      "CountryMorocco       -0.6460598  0.7962092   -0.811 0.417173    \n",
      "CountryNetherlands   -0.1290555  0.1763457   -0.732 0.464313    \n",
      "CountryNew Zealand   -0.5308706  0.0803408   -6.608 4.41e-11 ***\n",
      "CountryNorway         0.7095857  0.4195937    1.691 0.090890 .  \n",
      "CountryPakistan       0.0053245  0.4036480    0.013 0.989476    \n",
      "CountryPhilippines   -0.4378469  0.4295801   -1.019 0.308148    \n",
      "CountryPoland        -0.3141609  0.2437008   -1.289 0.197428    \n",
      "CountryPortugal       0.1285428  0.1414620    0.909 0.363576    \n",
      "CountryRomania       -0.4821653  1.3779885   -0.350 0.726428    \n",
      "CountryRussia         0.7924646  0.4370715    1.813 0.069887 .  \n",
      "CountrySaudi Arabia  -0.7395307  1.3774445   -0.537 0.591376    \n",
      "CountryScotland      -0.0910588  0.9747404   -0.093 0.925576    \n",
      "CountrySlovakia      -0.3617703  0.6315405   -0.573 0.566786    \n",
      "CountrySlovenia       0.5235819  0.2780283    1.883 0.059746 .  \n",
      "CountrySouth Africa  -0.9415412  0.7971024   -1.181 0.237591    \n",
      "CountrySpain          0.4853385  0.1300178    3.733 0.000192 ***\n",
      "CountrySweden         0.3765295  0.1989443    1.893 0.058478 .  \n",
      "CountryTanzania      -0.8216296  0.9749471   -0.843 0.399422    \n",
      "CountryThailand      -0.8628667  0.2999458   -2.877 0.004039 ** \n",
      "CountryThe Gambia    -0.9944943  0.6187774   -1.607 0.108090    \n",
      "CountryTurkey        -1.1461788  0.6974868   -1.643 0.100399    \n",
      "CountryUganda        -1.3610078  1.3764501   -0.989 0.322830    \n",
      "CountryUK             1.3824389  0.0806048   17.151  < 2e-16 ***\n",
      "CountryVietnam        1.4863382  0.5729011    2.594 0.009510 ** \n",
      "MtrR_39T              0.1168884  0.0689070    1.696 0.089902 .  \n",
      "MtrR_39Unmapped      -1.8060050  0.3680344   -4.907 9.60e-07 ***\n",
      "MtrR_45D              0.0981102  0.0771820    1.271 0.203747    \n",
      "MtrR_45Unmapped       1.4771106  0.5521462    2.675 0.007498 ** \n",
      "mtr_promoter-         0.3742538  0.0870225    4.301 1.74e-05 ***\n",
      "mtr_promoterG         0.3571455  1.3925676    0.256 0.797605    \n",
      "mtr_promoterUnmapped  0.6061756  0.1626306    3.727 0.000196 ***\n",
      "mtrRtruncated        -0.0007134  0.0962942   -0.007 0.994089    \n",
      "mtrRUnmapped         -1.1864639  1.4959816   -0.793 0.427766    \n",
      "GyrA_91F              4.6928855  0.2408089   19.488  < 2e-16 ***\n",
      "GyrA_91T              0.2343441  0.8780923    0.267 0.789576    \n",
      "GyrA_91Unmapped      -0.9031452  0.4657970   -1.939 0.052580 .  \n",
      "GyrA_91Y              3.9797189  0.5851687    6.801 1.19e-11 ***\n",
      "GyrA_95A              2.8467331  0.2646960   10.755  < 2e-16 ***\n",
      "GyrA_95G              3.2317203  0.2502396   12.915  < 2e-16 ***\n",
      "GyrA_95N              4.0905685  0.2746493   14.894  < 2e-16 ***\n",
      "GyrA_95Unmapped       2.7243533  0.4492239    6.065 1.44e-09 ***\n",
      "ParC_86A              0.6468601  0.1884384    3.433 0.000604 ***\n",
      "ParC_86Unmapped       0.8413271  0.7769210    1.083 0.278918    \n",
      "ParC_87I              0.8158140  0.3627812    2.249 0.024580 *  \n",
      "ParC_87N              0.7536031  0.2019093    3.732 0.000192 ***\n",
      "ParC_87R              2.0576545  0.1432336   14.366  < 2e-16 ***\n",
      "ParC_87Unmapped       2.4865452  0.3930909    6.326 2.80e-10 ***\n",
      "ParC_91G              1.7087954  0.1577549   10.832  < 2e-16 ***\n",
      "ParC_91K              1.4302161  0.3072542    4.655 3.35e-06 ***\n",
      "ParC_91Q              1.4275600  0.3903686    3.657 0.000258 ***\n",
      "ParC_91Unmapped       2.1025929  0.5548983    3.789 0.000153 ***\n",
      "PorB_120D             0.3987350  0.2141896    1.862 0.062732 .  \n",
      "PorB_120K             1.7603361  0.2543328    6.921 5.18e-12 ***\n",
      "PorB_120N             0.5169938  0.2812754    1.838 0.066131 .  \n",
      "PorB_120Q             0.8331305  1.0215043    0.816 0.414782    \n",
      "PorB_120R             1.5422389  0.7359240    2.096 0.036175 *  \n",
      "PorB_120Unmapped      0.2056010  0.2853533    0.721 0.471250    \n",
      "PorB_121D            -0.6391786  0.2476631   -2.581 0.009891 ** \n",
      "PorB_121G            -0.1986684  0.2821083   -0.704 0.481332    \n",
      "PorB_121N            -0.5377344  0.2551477   -2.108 0.035132 *  \n",
      "PorB_121Unmapped     -0.4656182  0.2914069   -1.598 0.110159    \n",
      "PorB_121V             0.2149058  0.6902268    0.311 0.755547    \n",
      "MtrCLOF              -1.0941470  0.1123997   -9.734  < 2e-16 ***\n",
      "---\n",
      "Signif. codes:  0 ‘***’ 0.001 ‘**’ 0.01 ‘*’ 0.05 ‘.’ 0.1 ‘ ’ 1\n",
      "\n",
      "Residual standard error: 1.375 on 4036 degrees of freedom\n",
      "Multiple R-squared:   0.94,\tAdjusted R-squared:  0.9386 \n",
      "F-statistic: 645.7 on 98 and 4036 DF,  p-value: < 2.2e-16\n",
      "\n"
     ]
    }
   ],
   "source": [
    "%%R -w 8 -h 4 --units in -r 400\n",
    "\n",
    "library(jtools)\n",
    "options(width = 250) \n",
    "\n",
    "model1 <- lm(CIP_LOG ~ Country+(.-GWAS_ID-Country-MtrC), data=cip_df, x=TRUE, y=TRUE)\n",
    "write.csv(tidy(model1) %>% select('term', 'std.error', 'estimate', 'p.value'), 'linear-models/results/lm-CIP.csv', row.names = FALSE)\n",
    "summary(model1)\n",
    "\n",
    "model2 <- lm(CIP_LOG ~ Country+(.-GWAS_ID-Country), data=cip_df, x=TRUE, y=TRUE)\n",
    "write.csv(tidy(model2) %>% select('term', 'std.error', 'estimate', 'p.value'), 'linear-models/results/lm-CIP-mtrC.csv', row.names = FALSE)\n",
    "summary(model2)"
   ]
  },
  {
   "cell_type": "code",
   "execution_count": 11,
   "metadata": {
    "ExecuteTime": {
     "end_time": "2020-04-28T03:08:21.295198Z",
     "start_time": "2020-04-28T03:08:21.111629Z"
    }
   },
   "outputs": [
    {
     "name": "stdout",
     "output_type": "stream",
     "text": [
      "Analysis of Variance Table\n",
      "\n",
      "Model 1: CIP_LOG ~ Country + ((GWAS_ID + Country + MtrR_39 + MtrR_45 + \n",
      "    mtr_promoter + mtrR + GyrA_91 + GyrA_95 + ParC_86 + ParC_87 + \n",
      "    ParC_91 + PorB_120 + PorB_121 + MtrC) - GWAS_ID - Country - \n",
      "    MtrC)\n",
      "Model 2: CIP_LOG ~ Country + ((GWAS_ID + Country + MtrR_39 + MtrR_45 + \n",
      "    mtr_promoter + mtrR + GyrA_91 + GyrA_95 + ParC_86 + ParC_87 + \n",
      "    ParC_91 + PorB_120 + PorB_121 + MtrC) - GWAS_ID - Country)\n",
      "  Res.Df    RSS Df Sum of Sq  Pr(>Chi)    \n",
      "1   4037 7812.6                           \n",
      "2   4036 7633.4  1    179.22 < 2.2e-16 ***\n",
      "---\n",
      "Signif. codes:  0 ‘***’ 0.001 ‘**’ 0.01 ‘*’ 0.05 ‘.’ 0.1 ‘ ’ 1\n"
     ]
    }
   ],
   "source": [
    "%%R -w 8 -o residuals1 -o residuals2 -h 4 --units in -r 400\n",
    "\n",
    "print(anova(model1, model2, test='Chisq'))\n",
    "\n",
    "residuals1 <- resid(model1)\n",
    "residuals2 <- resid(model2)\n",
    "#ggplot() + aes(residuals2)+ geom_histogram(binwidth=1, colour=\"black\", fill=\"white\") + ggtitle(\"CRO Residuals\") + theme(plot.title = element_text(hjust = 0.5)) + xlim(-5, 5)"
   ]
  },
  {
   "cell_type": "code",
   "execution_count": 12,
   "metadata": {
    "ExecuteTime": {
     "end_time": "2020-04-28T03:08:34.629683Z",
     "start_time": "2020-04-28T03:08:34.595909Z"
    }
   },
   "outputs": [
    {
     "name": "stdout",
     "output_type": "stream",
     "text": [
      "Out of 4135 strains with ceftriaxone MICs, in the baseline model 207 strains (5.01%)\n",
      "had MICs that deviated by two dilutions or more from predicted MICs. 120 strains (2.9%) had MICs\n",
      "that were lower than expected, indicating unexplained susceptibility. After addition of MtrC LOFs,\n",
      "178 strains (4.3%) had MICs that deviated by two dilutions or more from predicted MICs, and the\n",
      "number of strains with unexplained susceptibility decreased to 100 strains (2.42%).\n",
      "\n"
     ]
    }
   ],
   "source": [
    "total_n = len(residuals1)\n",
    "model1_error = sum([True if abs(x) > 2 else False for x in residuals1])\n",
    "model2_error = sum([True if abs(x) > 2 else False for x in residuals2])\n",
    "model1_unexpsus = sum([True if x < -2 else False for x in residuals1])\n",
    "model2_unexpsus = sum([True if x < -2 else False for x in residuals2])\n",
    "\n",
    "print('''Out of {0} strains with ceftriaxone MICs, in the baseline model {1} strains ({2}%)\n",
    "had MICs that deviated by two dilutions or more from predicted MICs. {3} strains ({4}%) had MICs\n",
    "that were lower than expected, indicating unexplained susceptibility. After addition of MtrC LOFs,\n",
    "{5} strains ({6}%) had MICs that deviated by two dilutions or more from predicted MICs, and the\n",
    "number of strains with unexplained susceptibility decreased to {7} strains ({8}%).\n",
    "'''.format(total_n, model1_error, round(model1_error/total_n*100,2), model1_unexpsus, round(model1_unexpsus/total_n*100,2),\n",
    "             model2_error, round(model2_error/total_n*100,2), model2_unexpsus, round(model2_unexpsus/total_n*100,2)))"
   ]
  },
  {
   "cell_type": "code",
   "execution_count": null,
   "metadata": {},
   "outputs": [],
   "source": []
  },
  {
   "cell_type": "markdown",
   "metadata": {
    "ExecuteTime": {
     "end_time": "2020-04-23T17:33:10.563911Z",
     "start_time": "2020-04-23T17:33:10.556352Z"
    }
   },
   "source": [
    "## N. meningitidis analysis\n",
    "\n",
    "We then extended our findings by analyzing a urogenital clade of N. meningitidis."
   ]
  },
  {
   "cell_type": "code",
   "execution_count": 2,
   "metadata": {
    "ExecuteTime": {
     "end_time": "2020-04-23T17:34:01.535050Z",
     "start_time": "2020-04-23T17:34:01.519293Z"
    }
   },
   "outputs": [
    {
     "name": "stdout",
     "output_type": "stream",
     "text": [
      "/n/data1/hsph/immid/grad/Kevin/gonococcus/pyseer/mtrC-gwas-manuscript/mening\n"
     ]
    }
   ],
   "source": [
    "cd mening"
   ]
  },
  {
   "cell_type": "code",
   "execution_count": null,
   "metadata": {},
   "outputs": [],
   "source": []
  }
 ],
 "metadata": {
  "kernelspec": {
   "display_name": "Python [conda env:pyseer] *",
   "language": "python",
   "name": "conda-env-pyseer-py"
  },
  "language_info": {
   "codemirror_mode": {
    "name": "ipython",
    "version": 3
   },
   "file_extension": ".py",
   "mimetype": "text/x-python",
   "name": "python",
   "nbconvert_exporter": "python",
   "pygments_lexer": "ipython3",
   "version": "3.6.5"
  },
  "toc": {
   "base_numbering": 1,
   "nav_menu": {
    "height": "425px",
    "width": "701px"
   },
   "number_sections": true,
   "sideBar": true,
   "skip_h1_title": false,
   "title_cell": "Table of Contents",
   "title_sidebar": "Contents",
   "toc_cell": false,
   "toc_position": {},
   "toc_section_display": true,
   "toc_window_display": false
  }
 },
 "nbformat": 4,
 "nbformat_minor": 2
}
